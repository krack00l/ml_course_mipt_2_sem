{
  "cells": [
    {
      "cell_type": "markdown",
      "metadata": {
        "id": "13pL--6rycN3"
      },
      "source": [
        "# Practice: Dealing with texts using CNN\n",
        "_Reference: Based on YSDA [materials](https://github.com/yandexdataschool/nlp_course/blob/master/week02_classification/seminar.ipynb). Special thanks to [Oleg Vasilev](https://github.com/Omrigan/) for the core assignment idea._\n",
        "\n",
        "Today we're gonna apply the newly learned tools for the task of predicting job salary.\n",
        "\n",
        "<img src=\"https://storage.googleapis.com/kaggle-competitions/kaggle/3342/media/salary%20prediction%20engine%20v2.png\" width=400px>"
      ]
    },
    {
      "cell_type": "markdown",
      "metadata": {
        "id": "34x92vWQycN_"
      },
      "source": [
        "## About the challenge\n",
        "For starters, let's download and unpack the data.\n",
        "\n",
        "You can also get it from [Yandex.Disk](https://yadi.sk/d/vVEOWPFY3NruT7) or [the competition page](https://www.kaggle.com/c/job-salary-prediction/data) (pick `Train_rev1.*`)."
      ]
    },
    {
      "cell_type": "code",
      "execution_count": 5,
      "metadata": {
        "id": "vwN72gd4ycOA",
        "colab": {
          "base_uri": "https://localhost:8080/"
        },
        "outputId": "8d56dc50-d4aa-4b03-b99e-6ba438bb7696"
      },
      "outputs": [
        {
          "output_type": "stream",
          "name": "stdout",
          "text": [
            "  % Total    % Received % Xferd  Average Speed   Time    Time     Time  Current\n",
            "                                 Dload  Upload   Total   Spent    Left  Speed\n",
            "100   128    0   128    0     0    462      0 --:--:-- --:--:-- --:--:--   462\n",
            "100   342  100   342    0     0    577      0 --:--:-- --:--:-- --:--:--   577\n",
            "100  119M  100  119M    0     0  16.5M      0  0:00:07  0:00:07 --:--:-- 20.4M\n"
          ]
        }
      ],
      "source": [
        "!curl -L \"https://www.dropbox.com/s/5msc5ix7ndyba10/Train_rev1.csv.tar.gz?dl=1\" -o Train_rev1.csv.tar.gz\n",
        "!tar xzf Train_rev1.csv.tar.gz"
      ]
    },
    {
      "cell_type": "code",
      "execution_count": 6,
      "metadata": {
        "id": "xIjzhbXEpHfT",
        "colab": {
          "base_uri": "https://localhost:8080/"
        },
        "outputId": "2261798d-8781-4fc1-c518-4b393da95c55"
      },
      "outputs": [
        {
          "output_type": "execute_result",
          "data": {
            "text/plain": [
              "(244768, 12)"
            ]
          },
          "metadata": {},
          "execution_count": 6
        }
      ],
      "source": [
        "import pandas as pd\n",
        "\n",
        "\n",
        "data = pd.read_csv(\"Train_rev1.csv\", index_col=None)\n",
        "data.shape"
      ]
    },
    {
      "cell_type": "markdown",
      "metadata": {
        "id": "z7kznuJfycOH"
      },
      "source": [
        "One problem with salary prediction is that it's oddly distributed: there are many people who are paid standard salaries and a few that get tons o money. The distribution is fat-tailed on the right side, which is inconvenient for MSE minimization.\n",
        "\n",
        "There are several techniques to combat this: using a different loss function, predicting log-target instead of raw target or even replacing targets with their percentiles among all salaries in the training set. We gonna use logarithm for now."
      ]
    },
    {
      "cell_type": "code",
      "execution_count": 7,
      "metadata": {
        "id": "UuuKIKfrycOH",
        "colab": {
          "base_uri": "https://localhost:8080/",
          "height": 360
        },
        "outputId": "a425b9be-8408-409d-91ac-6144a22399b1"
      },
      "outputs": [
        {
          "output_type": "display_data",
          "data": {
            "text/plain": [
              "<Figure size 800x400 with 2 Axes>"
            ],
            "image/png": "[encoded data removed]"
          },
          "metadata": {}
        }
      ],
      "source": [
        "import matplotlib.pyplot as plt\n",
        "import numpy as np\n",
        "\n",
        "\n",
        "data[\"Log1pSalary\"] = np.log1p(data[\"SalaryNormalized\"]).astype(\"float32\")\n",
        "\n",
        "plt.figure(figsize=[8, 4])\n",
        "plt.subplot(1, 2, 1)\n",
        "plt.hist(data[\"SalaryNormalized\"], bins=20)\n",
        "\n",
        "plt.subplot(1, 2, 2)\n",
        "plt.hist(data[\"Log1pSalary\"], bins=20)\n",
        "\n",
        "plt.show()"
      ]
    },
    {
      "cell_type": "markdown",
      "metadata": {
        "id": "Fcu-qmHRycOK"
      },
      "source": [
        "Our task is to predict one number, __Log1pSalary__.\n",
        "\n",
        "To do so, our model can access a number of features:\n",
        "* Free text: __`Title`__ and  __`FullDescription`__\n",
        "* Categorical: __`Category`__, __`Company`__, __`LocationNormalized`__, __`ContractType`__, and __`ContractTime`__."
      ]
    },
    {
      "cell_type": "code",
      "execution_count": 8,
      "metadata": {
        "id": "p9vyA_erycOK",
        "colab": {
          "base_uri": "https://localhost:8080/",
          "height": 416
        },
        "outputId": "82194e6d-e18c-4949-9add-fbdbfbb9d2b0"
      },
      "outputs": [
        {
          "output_type": "execute_result",
          "data": {
            "text/plain": [
              "              Id                                            Title  \\\n",
              "240774  72667257            Large International Firm Audit Senior   \n",
              "36642   68258750  Senior Recruitment Consultant  Commercial Temps   \n",
              "6774    64072836                                  Science Teacher   \n",
              "\n",
              "                                          FullDescription  \\\n",
              "240774  A Top 10 growing international firm is looking...   \n",
              "36642   Superb, uncapped earnings potential and mid, l...   \n",
              "6774    This Science department is looking for a Biolo...   \n",
              "\n",
              "                                     LocationRaw LocationNormalized  \\\n",
              "240774                                    London             London   \n",
              "36642   Milton Keynes Buckinghamshire South East      Milton Keynes   \n",
              "6774                                      London             London   \n",
              "\n",
              "       ContractType ContractTime                 Company  \\\n",
              "240774    full_time    permanent             Austin Rose   \n",
              "36642           NaN          NaN  Wallace Hind Selection   \n",
              "6774      full_time     contract  Master Class Education   \n",
              "\n",
              "                         Category  \\\n",
              "240774  Accounting & Finance Jobs   \n",
              "36642                  Sales Jobs   \n",
              "6774                Teaching Jobs   \n",
              "\n",
              "                                                SalaryRaw  SalaryNormalized  \\\n",
              "240774  40000 - 45000 per annum, Benefits: Benefits Pa...             42500   \n",
              "36642                                     25,000 - 35,000             30000   \n",
              "6774                              From 135 to 165 per day             36000   \n",
              "\n",
              "                   SourceName  Log1pSalary  \n",
              "240774          icaewjobs.com    10.657283  \n",
              "36642       salestarget.co.uk    10.308986  \n",
              "6774    jobsineducation.co.uk    10.491302  "
            ],
            "text/html": [
              "\n",
              "  <div id=\"df-9d6a6955-4ea6-42d0-969b-725675170501\">\n",
              "    <div class=\"colab-df-container\">\n",
              "      <div>\n",
              "<style scoped>\n",
              "    .dataframe tbody tr th:only-of-type {\n",
              "        vertical-align: middle;\n",
              "    }\n",
              "\n",
              "    .dataframe tbody tr th {\n",
              "        vertical-align: top;\n",
              "    }\n",
              "\n",
              "    .dataframe thead th {\n",
              "        text-align: right;\n",
              "    }\n",
              "</style>\n",
              "<table border=\"1\" class=\"dataframe\">\n",
              "  <thead>\n",
              "    <tr style=\"text-align: right;\">\n",
              "      <th></th>\n",
              "      <th>Id</th>\n",
              "      <th>Title</th>\n",
              "      <th>FullDescription</th>\n",
              "      <th>LocationRaw</th>\n",
              "      <th>LocationNormalized</th>\n",
              "      <th>ContractType</th>\n",
              "      <th>ContractTime</th>\n",
              "      <th>Company</th>\n",
              "      <th>Category</th>\n",
              "      <th>SalaryRaw</th>\n",
              "      <th>SalaryNormalized</th>\n",
              "      <th>SourceName</th>\n",
              "      <th>Log1pSalary</th>\n",
              "    </tr>\n",
              "  </thead>\n",
              "  <tbody>\n",
              "    <tr>\n",
              "      <th>240774</th>\n",
              "      <td>72667257</td>\n",
              "      <td>Large International Firm Audit Senior</td>\n",
              "      <td>A Top 10 growing international firm is looking...</td>\n",
              "      <td>London</td>\n",
              "      <td>London</td>\n",
              "      <td>full_time</td>\n",
              "      <td>permanent</td>\n",
              "      <td>Austin Rose</td>\n",
              "      <td>Accounting &amp; Finance Jobs</td>\n",
              "      <td>40000 - 45000 per annum, Benefits: Benefits Pa...</td>\n",
              "      <td>42500</td>\n",
              "      <td>icaewjobs.com</td>\n",
              "      <td>10.657283</td>\n",
              "    </tr>\n",
              "    <tr>\n",
              "      <th>36642</th>\n",
              "      <td>68258750</td>\n",
              "      <td>Senior Recruitment Consultant  Commercial Temps</td>\n",
              "      <td>Superb, uncapped earnings potential and mid, l...</td>\n",
              "      <td>Milton Keynes Buckinghamshire South East</td>\n",
              "      <td>Milton Keynes</td>\n",
              "      <td>NaN</td>\n",
              "      <td>NaN</td>\n",
              "      <td>Wallace Hind Selection</td>\n",
              "      <td>Sales Jobs</td>\n",
              "      <td>25,000 - 35,000</td>\n",
              "      <td>30000</td>\n",
              "      <td>salestarget.co.uk</td>\n",
              "      <td>10.308986</td>\n",
              "    </tr>\n",
              "    <tr>\n",
              "      <th>6774</th>\n",
              "      <td>64072836</td>\n",
              "      <td>Science Teacher</td>\n",
              "      <td>This Science department is looking for a Biolo...</td>\n",
              "      <td>London</td>\n",
              "      <td>London</td>\n",
              "      <td>full_time</td>\n",
              "      <td>contract</td>\n",
              "      <td>Master Class Education</td>\n",
              "      <td>Teaching Jobs</td>\n",
              "      <td>From 135 to 165 per day</td>\n",
              "      <td>36000</td>\n",
              "      <td>jobsineducation.co.uk</td>\n",
              "      <td>10.491302</td>\n",
              "    </tr>\n",
              "  </tbody>\n",
              "</table>\n",
              "</div>\n",
              "      <button class=\"colab-df-convert\" onclick=\"convertToInteractive('df-9d6a6955-4ea6-42d0-969b-725675170501')\"\n",
              "              title=\"Convert this dataframe to an interactive table.\"\n",
              "              style=\"display:none;\">\n",
              "        \n",
              "  <svg xmlns=\"http://www.w3.org/2000/svg\" height=\"24px\"viewBox=\"0 0 24 24\"\n",
              "       width=\"24px\">\n",
              "    <path d=\"M0 0h24v24H0V0z\" fill=\"none\"/>\n",
              "    <path d=\"M18.56 5.44l.94 2.06.94-2.06 2.06-.94-2.06-.94-.94-2.06-.94 2.06-2.06.94zm-11 1L8.5 8.5l.94-2.06 2.06-.94-2.06-.94L8.5 2.5l-.94 2.06-2.06.94zm10 10l.94 2.06.94-2.06 2.06-.94-2.06-.94-.94-2.06-.94 2.06-2.06.94z\"/><path d=\"M17.41 7.96l-1.37-1.37c-.4-.4-.92-.59-1.43-.59-.52 0-1.04.2-1.43.59L10.3 9.45l-7.72 7.72c-.78.78-.78 2.05 0 2.83L4 21.41c.39.39.9.59 1.41.59.51 0 1.02-.2 1.41-.59l7.78-7.78 2.81-2.81c.8-.78.8-2.07 0-2.86zM5.41 20L4 18.59l7.72-7.72 1.47 1.35L5.41 20z\"/>\n",
              "  </svg>\n",
              "      </button>\n",
              "      \n",
              "  <style>\n",
              "    .colab-df-container {\n",
              "      display:flex;\n",
              "      flex-wrap:wrap;\n",
              "      gap: 12px;\n",
              "    }\n",
              "\n",
              "    .colab-df-convert {\n",
              "      background-color: #E8F0FE;\n",
              "      border: none;\n",
              "      border-radius: 50%;\n",
              "      cursor: pointer;\n",
              "      display: none;\n",
              "      fill: #1967D2;\n",
              "      height: 32px;\n",
              "      padding: 0 0 0 0;\n",
              "      width: 32px;\n",
              "    }\n",
              "\n",
              "    .colab-df-convert:hover {\n",
              "      background-color: #E2EBFA;\n",
              "      box-shadow: 0px 1px 2px rgba(60, 64, 67, 0.3), 0px 1px 3px 1px rgba(60, 64, 67, 0.15);\n",
              "      fill: #174EA6;\n",
              "    }\n",
              "\n",
              "    [theme=dark] .colab-df-convert {\n",
              "      background-color: #3B4455;\n",
              "      fill: #D2E3FC;\n",
              "    }\n",
              "\n",
              "    [theme=dark] .colab-df-convert:hover {\n",
              "      background-color: #434B5C;\n",
              "      box-shadow: 0px 1px 3px 1px rgba(0, 0, 0, 0.15);\n",
              "      filter: drop-shadow(0px 1px 2px rgba(0, 0, 0, 0.3));\n",
              "      fill: #FFFFFF;\n",
              "    }\n",
              "  </style>\n",
              "\n",
              "      <script>\n",
              "        const buttonEl =\n",
              "          document.querySelector('#df-9d6a6955-4ea6-42d0-969b-725675170501 button.colab-df-convert');\n",
              "        buttonEl.style.display =\n",
              "          google.colab.kernel.accessAllowed ? 'block' : 'none';\n",
              "\n",
              "        async function convertToInteractive(key) {\n",
              "          const element = document.querySelector('#df-9d6a6955-4ea6-42d0-969b-725675170501');\n",
              "          const dataTable =\n",
              "            await google.colab.kernel.invokeFunction('convertToInteractive',\n",
              "                                                     [key], {});\n",
              "          if (!dataTable) return;\n",
              "\n",
              "          const docLinkHtml = 'Like what you see? Visit the ' +\n",
              "            '<a target=\"_blank\" href=https://colab.research.google.com/notebooks/data_table.ipynb>data table notebook</a>'\n",
              "            + ' to learn more about interactive tables.';\n",
              "          element.innerHTML = '';\n",
              "          dataTable['output_type'] = 'display_data';\n",
              "          await google.colab.output.renderOutput(dataTable, element);\n",
              "          const docLink = document.createElement('div');\n",
              "          docLink.innerHTML = docLinkHtml;\n",
              "          element.appendChild(docLink);\n",
              "        }\n",
              "      </script>\n",
              "    </div>\n",
              "  </div>\n",
              "  "
            ]
          },
          "metadata": {},
          "execution_count": 8
        }
      ],
      "source": [
        "text_columns = [\"Title\", \"FullDescription\"]\n",
        "categorical_columns = [\"Category\", \"Company\", \"LocationNormalized\", \"ContractType\", \"ContractTime\"]\n",
        "target_column = \"Log1pSalary\"\n",
        "\n",
        "data[categorical_columns] = data[categorical_columns].fillna(\"NaN\")\n",
        "data[text_columns] = data[text_columns].fillna(\"NaN\")\n",
        "\n",
        "data.sample(3)"
      ]
    },
    {
      "cell_type": "markdown",
      "metadata": {
        "id": "IUdclucmycON"
      },
      "source": [
        "## Preprocessing text data\n",
        "\n",
        "Just like last week, applying NLP to a problem begins from tokenization: splitting raw text into sequences of tokens (words, punctuation, etc).\n",
        "\n",
        "__Your task__ is to lowercase and tokenize all texts under `Title` and `FullDescription` columns. Store the tokenized data as a __space-separated__ string of tokens for performance reasons.\n",
        "\n",
        "It's okay to use nltk tokenizers. Assertions were designed for WordPunctTokenizer, slight deviations are okay."
      ]
    },
    {
      "cell_type": "code",
      "execution_count": 9,
      "metadata": {
        "id": "YzeOxD_aycOO",
        "colab": {
          "base_uri": "https://localhost:8080/"
        },
        "outputId": "5161f052-9b30-4ce6-a4c3-5c7a1f740d0b"
      },
      "outputs": [
        {
          "output_type": "stream",
          "name": "stdout",
          "text": [
            "Raw text:\n",
            "2         Mathematical Modeller / Simulation Analyst / O...\n",
            "100002    A successful and high achieving specialist sch...\n",
            "200002    Web Designer  HTML, CSS, JavaScript, Photoshop...\n",
            "Name: FullDescription, dtype: object\n"
          ]
        }
      ],
      "source": [
        "print(\"Raw text:\")\n",
        "print(data[\"FullDescription\"][2::100000])"
      ]
    },
    {
      "cell_type": "code",
      "execution_count": 11,
      "metadata": {
        "id": "RUWkpd7PycOQ"
      },
      "outputs": [],
      "source": [
        "from nltk.tokenize import WordPunctTokenizer\n",
        "\n",
        "\n",
        "tokenizer = WordPunctTokenizer()\n",
        "\n",
        "# YOUR CODE HERE\n",
        "# Lowercase and tokenize titles and descriptions (text_columns).\n",
        "# Store items as space-separated strings of tokens.\n",
        "def normalize(text):\n",
        "    text = str(text).lower()\n",
        "    tokens = tokenizer.tokenize(text)\n",
        "    return ' '.join(tokens)\n",
        "\n",
        "data[text_columns] = data[text_columns].applymap(normalize)"
      ]
    },
    {
      "cell_type": "code",
      "execution_count": 12,
      "metadata": {
        "id": "Gs-6lnS_ycOU",
        "colab": {
          "base_uri": "https://localhost:8080/"
        },
        "outputId": "abb08c16-e103-4ad7-f05b-7a13001ba188"
      },
      "outputs": [
        {
          "output_type": "stream",
          "name": "stdout",
          "text": [
            "Tokenized:\n",
            "2         mathematical modeller / simulation analyst / o...\n",
            "100002    a successful and high achieving specialist sch...\n",
            "200002    web designer html , css , javascript , photosh...\n",
            "Name: FullDescription, dtype: object\n"
          ]
        }
      ],
      "source": [
        "print(\"Tokenized:\")\n",
        "print(data[\"FullDescription\"][2::100000])\n",
        "assert data[\"FullDescription\"][2][:50] == \"mathematical modeller / simulation analyst / opera\"\n",
        "assert data[\"Title\"][54321] == \"international digital account manager ( german )\""
      ]
    },
    {
      "cell_type": "markdown",
      "metadata": {
        "id": "ouE3L2hyycOX"
      },
      "source": [
        "Not all words are equally useful. Some of them are typos or rare words that are only present a few times. \n",
        "\n",
        "Let's count how many times is each word present in the data so that we can build a \"white list\" of known words."
      ]
    },
    {
      "cell_type": "code",
      "execution_count": 13,
      "metadata": {
        "id": "iC7hBwwjycOX"
      },
      "outputs": [],
      "source": [
        "from collections import Counter\n",
        "\n",
        "\n",
        "# YOUR CODE HERE\n",
        "# Count how many times does each token occur in both \"Title\" and \"FullDescription\".\n",
        "# Build a dictionary { token -> count }.\n",
        "# Hint: you may or may not want to use collections.Counter\n",
        "token_counts = Counter()\n",
        "\n",
        "for _, row in data[text_columns].iterrows():\n",
        "    for text in row:\n",
        "        token_counts.update(text.split(' '))"
      ]
    },
    {
      "cell_type": "code",
      "execution_count": 20,
      "metadata": {
        "id": "GiOWbc15ycOb",
        "colab": {
          "base_uri": "https://localhost:8080/"
        },
        "outputId": "627441ae-feac-4453-e143-d736f4107820"
      },
      "outputs": [
        {
          "output_type": "stream",
          "name": "stdout",
          "text": [
            "Total unique tokens : 202704\n",
            "('and', 2657388)\n",
            "('.', 2523216)\n",
            "(',', 2318606)\n",
            "('the', 2080994)\n",
            "('to', 2019884)\n",
            "...\n",
            "('stephanietraveltraderecruitmnt', 1)\n",
            "('ruabon', 1)\n",
            "('lowehays', 1)\n",
            "Correct!\n"
          ]
        }
      ],
      "source": [
        "print(\"Total unique tokens :\", len(token_counts))\n",
        "print(\"\\n\".join(map(str, token_counts.most_common(n=5))))\n",
        "print(\"...\")\n",
        "print(\"\\n\".join(map(str, token_counts.most_common()[-3:])))\n",
        "\n",
        "assert token_counts.most_common(1)[0][1] in range(2600000, 2700000)\n",
        "assert len(token_counts) in range(200000, 210000)\n",
        "print(\"Correct!\")"
      ]
    },
    {
      "cell_type": "markdown",
      "source": [
        "Let's see how many words are there for each count."
      ],
      "metadata": {
        "id": "W2ih1LV4YhtL"
      }
    },
    {
      "cell_type": "code",
      "execution_count": 21,
      "metadata": {
        "id": "nd5v3BNfycOf",
        "colab": {
          "base_uri": "https://localhost:8080/",
          "height": 449
        },
        "outputId": "d66e03bf-228a-46fb-fa43-2036e0f842a4"
      },
      "outputs": [
        {
          "output_type": "display_data",
          "data": {
            "text/plain": [
              "<Figure size 640x480 with 1 Axes>"
            ],
            "image/png": "[encoded data removed]"
          },
          "metadata": {}
        }
      ],
      "source": [
        "plt.hist(list(token_counts.values()), range=[0, 10 ** 4], bins=50, log=True)\n",
        "plt.xlabel(\"Word counts\")\n",
        "plt.show()"
      ]
    },
    {
      "cell_type": "markdown",
      "metadata": {
        "id": "znuXxeghycOh"
      },
      "source": [
        "Now we will filter tokens a list of all tokens that occur at least 10 times."
      ]
    },
    {
      "cell_type": "code",
      "execution_count": 22,
      "metadata": {
        "id": "SeNFBWx5ycOh"
      },
      "outputs": [],
      "source": [
        "min_count = 10\n",
        "\n",
        "# YOUR CODE HERE\n",
        "# We shall only consider tokens that had at least min_count occurences.\n",
        "# Create a list of such tokens.\n",
        "tokens = [token for token, counts in token_counts.items() if counts >= min_count]"
      ]
    },
    {
      "cell_type": "code",
      "execution_count": 23,
      "metadata": {
        "id": "RATIRyPKycOk",
        "colab": {
          "base_uri": "https://localhost:8080/"
        },
        "outputId": "eb5e1df7-c82c-4e0e-dbc5-f40c5c33d8ce"
      },
      "outputs": [
        {
          "output_type": "stream",
          "name": "stdout",
          "text": [
            "Vocabulary size: 34158\n",
            "Correct!\n"
          ]
        }
      ],
      "source": [
        "# Add a special tokens for unknown and empty words\n",
        "UNK, PAD = \"UNK\", \"PAD\"\n",
        "tokens = [UNK, PAD] + sorted(tokens)\n",
        "print(\"Vocabulary size:\", len(tokens))\n",
        "\n",
        "assert type(tokens) == list\n",
        "assert len(tokens) in range(32000, 35000)\n",
        "assert \"me\" in tokens\n",
        "assert UNK in tokens\n",
        "print(\"Correct!\")"
      ]
    },
    {
      "cell_type": "markdown",
      "source": [
        "чтобы научить модель работать со случайномы словами во время обучения, мржно маскировать слова как UNK(UNKNOWN) чтобы потом модель умела работать с такими словами\n"
      ],
      "metadata": {
        "id": "GyoJG7SgA2mX"
      }
    },
    {
      "cell_type": "markdown",
      "metadata": {
        "id": "cqEsgbjZycOo"
      },
      "source": [
        "Build an inverse token index: a dictionary from token to it's index in `tokens`."
      ]
    },
    {
      "cell_type": "code",
      "execution_count": 24,
      "metadata": {
        "id": "L60lo1l_ycOq"
      },
      "outputs": [],
      "source": [
        "# YOUR CODE HERE\n",
        "token_to_idx = {value: idx for idx, value in enumerate(tokens)}"
      ]
    },
    {
      "cell_type": "code",
      "execution_count": 27,
      "metadata": {
        "id": "DeAoVo4mycOr",
        "colab": {
          "base_uri": "https://localhost:8080/"
        },
        "outputId": "fdc86cc6-3420-45a1-8a33-ed954aac61c3"
      },
      "outputs": [
        {
          "output_type": "stream",
          "name": "stdout",
          "text": [
            "Correct!\n"
          ]
        }
      ],
      "source": [
        "assert isinstance(token_to_idx, dict)\n",
        "assert len(token_to_idx) == len(tokens)\n",
        "for tok in tokens:\n",
        "    assert tokens[token_to_idx[tok]] == tok\n",
        "\n",
        "print(\"Correct!\")"
      ]
    },
    {
      "cell_type": "markdown",
      "metadata": {
        "id": "cmJAkq3gycOv"
      },
      "source": [
        "And finally, let's use the vocabulary you've built to map text lines into neural network-digestible matrices."
      ]
    },
    {
      "cell_type": "code",
      "execution_count": 28,
      "metadata": {
        "id": "JEsLeBjVycOw"
      },
      "outputs": [],
      "source": [
        "UNK_IDX = token_to_idx[UNK]\n",
        "PAD_IDX = token_to_idx[PAD]\n",
        "\n",
        "\n",
        "def as_matrix(sequences, max_len=None):\n",
        "    \"\"\"Convert a list of tokens into a matrix with padding\"\"\"\n",
        "    if isinstance(sequences[0], str):\n",
        "        sequences = [seq.split(\" \") for seq in sequences]\n",
        "\n",
        "    sequences_max_len = max(len(seq) for seq in sequences)\n",
        "    if max_len is None:\n",
        "        max_len = sequences_max_len\n",
        "    else:\n",
        "        max_len = min(sequences_max_len, max_len)\n",
        "\n",
        "    matrix = np.full((len(sequences), max_len), PAD_IDX)\n",
        "    for i, seq in enumerate(sequences):\n",
        "        for j, token in enumerate(seq):\n",
        "            if j >= max_len:\n",
        "                break\n",
        "\n",
        "            matrix[i, j] = token_to_idx.get(token, UNK_IDX)\n",
        "\n",
        "    return matrix"
      ]
    },
    {
      "cell_type": "code",
      "execution_count": 29,
      "metadata": {
        "id": "JiBlPkdKycOy",
        "colab": {
          "base_uri": "https://localhost:8080/"
        },
        "outputId": "3faf4c75-1808-4d83-a63a-463f27539189"
      },
      "outputs": [
        {
          "output_type": "stream",
          "name": "stdout",
          "text": [
            "Lines:\n",
            "engineering systems analyst\n",
            "hr assistant\n",
            "senior ec & i engineer\n",
            "\n",
            "Matrix:\n",
            "[[10807 30161  2166     1     1]\n",
            " [15020  2844     1     1     1]\n",
            " [27645 10201    16 15215 10804]]\n"
          ]
        }
      ],
      "source": [
        "print(\"Lines:\")\n",
        "print(\"\\n\".join(data[\"Title\"][::100000].values), end=\"\\n\\n\")\n",
        "print(\"Matrix:\")\n",
        "print(as_matrix(data[\"Title\"][::100000]))"
      ]
    },
    {
      "cell_type": "markdown",
      "metadata": {
        "id": "nGOdZ3-dycO4"
      },
      "source": [
        "Now let's  encode the categirical data we have.\n",
        "\n",
        "As usual, we shall use one-hot encoding for simplicity. Kudos if you implement more advanced encodings: tf-idf, pseudo-time-series, etc."
      ]
    },
    {
      "cell_type": "code",
      "source": [
        "from sklearn.feature_extraction import DictVectorizer\n",
        "\n",
        "\n",
        "# We only consider top-1k most frequent companies to minimize memory usage\n",
        "company_counts = Counter(data[\"Company\"])\n",
        "top_companies = set(name for name, count in company_counts.most_common(1000))\n",
        "data[\"Company\"] = data[\"Company\"].apply(\n",
        "    lambda company: company if company in top_companies else \"Other\"\n",
        ")\n",
        "\n",
        "categorical_vectorizer = DictVectorizer(dtype=np.float32, sparse=False)\n",
        "categorical_vectorizer.fit(data[categorical_columns].apply(dict, axis=1));"
      ],
      "metadata": {
        "id": "pg12nLQijNJg"
      },
      "execution_count": 30,
      "outputs": []
    },
    {
      "cell_type": "markdown",
      "metadata": {
        "id": "yk4jmtAYycO8"
      },
      "source": [
        "## The deep learning part\n",
        "\n",
        "Once we've learned to tokenize the data, let's design a machine learning experiment.\n",
        "\n",
        "As before, we won't focus too much on validation, opting for a simple train-test split.\n",
        "\n",
        "__To be completely rigorous,__ we've comitted a small crime here: we used the whole data for tokenization and vocabulary building. A more strict way would be to do that part on training set only. You may want to do that and measure the magnitude of changes."
      ]
    },
    {
      "cell_type": "code",
      "execution_count": 31,
      "metadata": {
        "id": "TngLcWA0ycO_",
        "colab": {
          "base_uri": "https://localhost:8080/"
        },
        "outputId": "55862b8d-adf9-4a62-db78-2947632460b0"
      },
      "outputs": [
        {
          "output_type": "stream",
          "name": "stdout",
          "text": [
            "Train size =  195814\n",
            "Validation size =  48954\n"
          ]
        }
      ],
      "source": [
        "from sklearn.model_selection import train_test_split\n",
        "\n",
        "\n",
        "data_train, data_val = train_test_split(data, test_size=0.2, random_state=42)\n",
        "data_train.index = range(len(data_train))\n",
        "data_val.index = range(len(data_val))\n",
        "\n",
        "print(\"Train size = \", len(data_train))\n",
        "print(\"Validation size = \", len(data_val))"
      ]
    },
    {
      "cell_type": "code",
      "execution_count": 32,
      "metadata": {
        "id": "2PXuKgOSycPB"
      },
      "outputs": [],
      "source": [
        "def make_batch(data, max_len=None, word_dropout=0):\n",
        "    \"\"\"\n",
        "    Creates a neural-network-friendly dict from the batch data.\n",
        "    :param word_dropout: replaces token index with UNK_IDX with this probability\n",
        "    :returns: a dict with {'title' : int64[batch, title_max_len]\n",
        "    \"\"\"\n",
        "    batch = {}\n",
        "    batch[\"Title\"] = as_matrix(data[\"Title\"].values, max_len)\n",
        "    batch[\"FullDescription\"] = as_matrix(data[\"FullDescription\"].values, max_len)\n",
        "    batch[\"Categorical\"] = categorical_vectorizer.transform(\n",
        "        data[categorical_columns].apply(dict, axis=1)\n",
        "    )\n",
        "\n",
        "    if word_dropout != 0:\n",
        "        batch[\"FullDescription\"] = apply_word_dropout(batch[\"FullDescription\"], 1.0 - word_dropout)\n",
        "\n",
        "    if target_column in data.columns:\n",
        "        batch[target_column] = data[target_column].values\n",
        "\n",
        "    return batch\n",
        "\n",
        "\n",
        "def apply_word_dropout(matrix, keep_prob, replace_with=UNK_IDX):\n",
        "    dropout_mask = np.random.choice(2, np.shape(matrix), p=[keep_prob, 1 - keep_prob])\n",
        "    dropout_mask &= matrix != PAD_IDX\n",
        "    return np.choose(dropout_mask, [matrix, np.full_like(matrix, replace_with)])"
      ]
    },
    {
      "cell_type": "code",
      "execution_count": 33,
      "metadata": {
        "id": "I6LpEQf0ycPD",
        "colab": {
          "base_uri": "https://localhost:8080/"
        },
        "outputId": "d9c48a8e-5c96-4e5e-dead-ef9ecf6efafc"
      },
      "outputs": [
        {
          "output_type": "stream",
          "name": "stdout",
          "text": [
            "Example batch:\n",
            "{'Title': array([[27645, 29893, 33674,     1,     1,     1,     1],\n",
            "       [29239,   197, 19175, 20042, 15554, 23162,  4051],\n",
            "       [10609, 30412, 17746,    33,  8705, 29157,    65]]), 'FullDescription': array([[27645, 29893, 33674, 32939,   982, 27645, 29893, 33674, 16451,\n",
            "        32939],\n",
            "       [29239,   197, 19175, 20042, 15554, 23162,  4051, 25511,   907,\n",
            "           82],\n",
            "       [30746, 21956, 20601,  6409, 16451,  8165, 27493,   982, 30412,\n",
            "        17746]]), 'Categorical': array([[0., 0., 0., ..., 0., 0., 0.],\n",
            "       [0., 0., 0., ..., 0., 0., 0.],\n",
            "       [0., 0., 0., ..., 0., 0., 0.]], dtype=float32), 'Log1pSalary': array([ 9.71154 , 10.463132, 10.71444 ], dtype=float32)}\n",
            "FullDescription shape: (3, 10)\n"
          ]
        }
      ],
      "source": [
        "example_batch = make_batch(data_train[:3], max_len=10)\n",
        "print(\"Example batch:\")\n",
        "print(example_batch)\n",
        "print(\"FullDescription shape:\", example_batch[\"FullDescription\"].shape)"
      ]
    },
    {
      "cell_type": "code",
      "execution_count": 34,
      "metadata": {
        "id": "nBfN182zpHfd"
      },
      "outputs": [],
      "source": [
        "def iterate_minibatches(data, batch_size=256, shuffle=True, cycle=False, **kwargs):\n",
        "    \"\"\"iterates minibatches of data in random order\"\"\"\n",
        "    while True:\n",
        "        indices = np.arange(len(data))\n",
        "        if shuffle:\n",
        "            indices = np.random.permutation(indices)\n",
        "\n",
        "        for start in range(0, len(indices), batch_size):\n",
        "            batch = make_batch(data.iloc[indices[start : start + batch_size]], **kwargs)\n",
        "            target = batch.pop(target_column)\n",
        "            yield batch, target\n",
        "\n",
        "        if not cycle:\n",
        "            break"
      ]
    },
    {
      "cell_type": "markdown",
      "metadata": {
        "id": "iQAQPx3-pHfd"
      },
      "source": [
        "To generate minibatches we will use simple pyton generator."
      ]
    },
    {
      "cell_type": "code",
      "source": [
        "iterator = iterate_minibatches(data_train, 3)\n",
        "batch, target = next(iterator)"
      ],
      "metadata": {
        "id": "fCeb-W9EodjZ"
      },
      "execution_count": 53,
      "outputs": []
    },
    {
      "cell_type": "markdown",
      "metadata": {
        "id": "0eI5h9UMycPF"
      },
      "source": [
        "## Architecture\n",
        "\n",
        "Our main model consists of three branches:\n",
        "* Title encoder\n",
        "* Description encoder\n",
        "* Categorical features encoder\n",
        "\n",
        "We will then feed all 3 branches into one common network that predicts salary.\n",
        "\n",
        "<img src=\"https://github.com/yandexdataschool/nlp_course/raw/master/resources/w2_conv_arch.png\" width=600px>\n",
        "\n",
        "This clearly doesn't fit into PyTorch __Sequential__ interface. To build such a network, one will have to use [__PyTorch nn.Module API__](https://pytorch.org/docs/stable/nn.html#torch.nn.Module)."
      ]
    },
    {
      "cell_type": "markdown",
      "metadata": {
        "id": "SbhrCEl1pHfc"
      },
      "source": [
        "But to start with let's build the simple model using only the part of the data. Let's create the baseline solution using only the description part (so it should definetely fit into the Sequential model)."
      ]
    },
    {
      "cell_type": "code",
      "execution_count": 37,
      "metadata": {
        "id": "2jjPFvWZpHfc"
      },
      "outputs": [],
      "source": [
        "import torch.nn as nn\n",
        "\n",
        "\n",
        "# Initially, our FullDescription has a shape [batch_size, seq_len].\n",
        "# After an Embedding layer shape will be [batch_size, seq_len, embedding_size].\n",
        "# However, Conv1d layer expects batches of shape [batch_size, embedding_size, seq_len].\n",
        "# We will use this layer to fix this misunderstanding.\n",
        "\n",
        "class Flatten(nn.Module):\n",
        "    def forward(self, input):\n",
        "        return input.view(input.size(0), -1)\n",
        "\n",
        "class Reorder(nn.Module): #меняет местами оси будет не 0 1 2 а 0 2 1\n",
        "    def forward(self, input):\n",
        "        return input.permute((0, 2, 1))"
      ]
    },
    {
      "cell_type": "code",
      "execution_count": 64,
      "metadata": {
        "id": "6LPx2UKepHfd"
      },
      "outputs": [],
      "source": [
        "n_tokens = len(tokens)\n",
        "n_maximus = 2\n",
        "n_cat_features = len(categorical_vectorizer.vocabulary_)\n",
        "hid_size = 64\n",
        "\n",
        "simple_model = nn.Sequential(\n",
        "    nn.Embedding(num_embeddings=len(tokens), embedding_dim=hid_size),\n",
        "    Reorder(),\n",
        "    nn.Conv1d(in_channels=hid_size, out_channels=2 * hid_size, kernel_size=3),\n",
        "    nn.ReLU(),\n",
        "    nn.Conv1d(in_channels=2 * hid_size, out_channels=2 * hid_size, kernel_size=3),\n",
        "    nn.ReLU(),\n",
        "    nn.BatchNorm1d(hid_size*2),\n",
        "    nn.AdaptiveMaxPool1d(n_maximus), #вытягивает махимум из нашей последовательности(2 максим знач на выходк)\n",
        "    #дальше вытягиваем в один вектор и линейные слои\n",
        "    nn.Flatten(),\n",
        "    nn.Linear(hid_size*2 * n_maximus, 1)\n",
        ")\n",
        "#размер батча 3 387, поле эмбединга 3 387 64 (число каналов, разм батча и длина послед ),\n",
        "# после Reorder будет так как принимает однослойная сверточная нейронка размер батча число каналов и длин послед\n",
        "#каналы 64, 3 количество элементов в батче , 387 макс количество токенов\n",
        "#для текста используется Conv1d() kernel_size - размер граммы триграмма"
      ]
    },
    {
      "cell_type": "markdown",
      "metadata": {
        "id": "uMu66aNSpHfd"
      },
      "source": [
        "__Remember!__ We are working with regression problem and predicting only one number."
      ]
    },
    {
      "cell_type": "code",
      "execution_count": 65,
      "metadata": {
        "id": "CerptbpcpHfd"
      },
      "outputs": [],
      "source": [
        "import torch\n",
        "\n",
        "\n",
        "# Check your model. `torch.long` tensors are required for nn.Embedding layers.\n",
        "a = simple_model(torch.tensor(batch[\"FullDescription\"]).type(torch.LongTensor))"
      ]
    },
    {
      "cell_type": "code",
      "source": [
        "a.shape"
      ],
      "metadata": {
        "colab": {
          "base_uri": "https://localhost:8080/"
        },
        "id": "mf2uR0mJKYfT",
        "outputId": "e2896cbd-7070-4229-e56a-a22f9a6bb6d5"
      },
      "execution_count": 66,
      "outputs": [
        {
          "output_type": "execute_result",
          "data": {
            "text/plain": [
              "torch.Size([3, 1])"
            ]
          },
          "metadata": {},
          "execution_count": 66
        }
      ]
    },
    {
      "cell_type": "code",
      "source": [
        "a #super  "
      ],
      "metadata": {
        "colab": {
          "base_uri": "https://localhost:8080/"
        },
        "id": "1EzzFY8hLVeA",
        "outputId": "18cb2ff5-3d84-4df8-d805-d0730f03e175"
      },
      "execution_count": 67,
      "outputs": [
        {
          "output_type": "execute_result",
          "data": {
            "text/plain": [
              "tensor([[-0.7889],\n",
              "        [ 1.9909],\n",
              "        [-0.5140]], grad_fn=<AddmmBackward0>)"
            ]
          },
          "metadata": {},
          "execution_count": 67
        }
      ]
    },
    {
      "cell_type": "code",
      "execution_count": 68,
      "metadata": {
        "id": "1G-n-458pHfd"
      },
      "outputs": [],
      "source": [
        "device = torch.device(\"cuda\" if torch.cuda.is_available() else \"cpu\")\n",
        "simple_model.to(device);"
      ]
    },
    {
      "cell_type": "code",
      "source": [
        "from torchsummary import summary\n",
        "\n",
        "summary(simple_model, input_size=)"
      ],
      "metadata": {
        "colab": {
          "base_uri": "https://localhost:8080/",
          "height": 200
        },
        "id": "9iTgSLrdMmJR",
        "outputId": "4cb244c5-b964-4214-a4dc-aeb18001ff82"
      },
      "execution_count": 71,
      "outputs": [
        {
          "output_type": "error",
          "ename": "TypeError",
          "evalue": "ignored",
          "traceback": [
            "\u001b[0;31m---------------------------------------------------------------------------\u001b[0m",
            "\u001b[0;31mTypeError\u001b[0m                                 Traceback (most recent call last)",
            "\u001b[0;32m<ipython-input-71-c1792d431dd6>\u001b[0m in \u001b[0;36m<cell line: 3>\u001b[0;34m()\u001b[0m\n\u001b[1;32m      1\u001b[0m \u001b[0;32mfrom\u001b[0m \u001b[0mtorchsummary\u001b[0m \u001b[0;32mimport\u001b[0m \u001b[0msummary\u001b[0m\u001b[0;34m\u001b[0m\u001b[0;34m\u001b[0m\u001b[0m\n\u001b[1;32m      2\u001b[0m \u001b[0;34m\u001b[0m\u001b[0m\n\u001b[0;32m----> 3\u001b[0;31m \u001b[0msummary\u001b[0m\u001b[0;34m(\u001b[0m\u001b[0msimple_model\u001b[0m\u001b[0;34m)\u001b[0m\u001b[0;34m\u001b[0m\u001b[0;34m\u001b[0m\u001b[0m\n\u001b[0m",
            "\u001b[0;31mTypeError\u001b[0m: summary() missing 1 required positional argument: 'input_size'"
          ]
        }
      ]
    },
    {
      "cell_type": "markdown",
      "metadata": {
        "id": "8hUa3gBepHfd"
      },
      "source": [
        "And now simple training pipeline:"
      ]
    },
    {
      "cell_type": "code",
      "execution_count": 69,
      "metadata": {
        "id": "tKiy4otdpHfd",
        "colab": {
          "base_uri": "https://localhost:8080/",
          "height": 430
        },
        "outputId": "902ef904-7c86-45a0-d403-f19430fa7efd"
      },
      "outputs": [
        {
          "output_type": "display_data",
          "data": {
            "text/plain": [
              "<Figure size 640x480 with 1 Axes>"
            ],
            "image/png": "[encoded data removed]"
          },
          "metadata": {}
        }
      ],
      "source": [
        "from IPython.display import clear_output\n",
        "\n",
        "\n",
        "epochs = 1\n",
        "model = simple_model\n",
        "opt = torch.optim.Adam(model.parameters())\n",
        "criterion = nn.MSELoss()\n",
        "\n",
        "history = []\n",
        "for epoch in range(epochs):\n",
        "    for batch, target in iterate_minibatches(data_train):\n",
        "        # Preprocessing the batch data and target\n",
        "        batch = torch.tensor(batch[\"FullDescription\"], dtype=torch.long, device=device)\n",
        "        target = torch.tensor(target, device=device)\n",
        "\n",
        "        predictions = model(batch)\n",
        "        predictions = predictions.flatten()\n",
        "\n",
        "        # YOUR CODE HERE\n",
        "        # Compute loss.\n",
        "        loss = criterion(predictions, target)\n",
        "\n",
        "        # YOUR CODE HERE\n",
        "        loss.backward()\n",
        "        opt.step()\n",
        "        opt.zero_grad()\n",
        "\n",
        "        history.append(loss.item())\n",
        "        if len(history) % 10 == 0:\n",
        "            clear_output(wait=True)\n",
        "            plt.plot(history, label=\"loss\")\n",
        "            plt.legend()\n",
        "            plt.show()"
      ]
    },
    {
      "cell_type": "markdown",
      "metadata": {
        "id": "eOXdOBCnpHfe"
      },
      "source": [
        "To evaluate the model we can switch it to `eval` state. Let's check the model quality."
      ]
    },
    {
      "cell_type": "code",
      "execution_count": 70,
      "metadata": {
        "id": "eaiQRrfCpHfe",
        "colab": {
          "base_uri": "https://localhost:8080/"
        },
        "outputId": "bd6b2ee0-eb6d-43c6-da3c-cf07a501722b"
      },
      "outputs": [
        {
          "output_type": "stream",
          "name": "stdout",
          "text": [
            "Train:\n",
            "MSE: 0.23387\n",
            "MAE: 0.37104\n",
            "Val:\n",
            "MSE: 0.24557\n",
            "MAE: 0.38115\n"
          ]
        }
      ],
      "source": [
        "@torch.no_grad()\n",
        "def evaluate_model(model, data, batch_size=256, name=None, **kwargs):\n",
        "    squared_error = abs_error = num_samples = 0.0\n",
        "    data_iterator = iterate_minibatches(data, batch_size, shuffle=False, **kwargs)\n",
        "    for batch, target in data_iterator:\n",
        "        batch = torch.tensor(batch[\"FullDescription\"], dtype=torch.long, device=device)\n",
        "        pred = model(batch)[:, 0].cpu().numpy()\n",
        "\n",
        "        squared_error += np.sum(np.square(pred - target))\n",
        "        abs_error += np.sum(np.abs(pred - target))\n",
        "        num_samples += len(target)\n",
        "\n",
        "    if name is not None:\n",
        "        print(f\"{name}:\")\n",
        "\n",
        "    print(f\"MSE: {squared_error / num_samples:.5f}\")\n",
        "    print(f\"MAE: {abs_error / num_samples:.5f}\")\n",
        "\n",
        "\n",
        "evaluate_model(simple_model, data_train, name=\"Train\")\n",
        "evaluate_model(simple_model, data_val, name=\"Val\")"
      ]
    },
    {
      "cell_type": "code",
      "source": [
        "@torch.no_grad()\n",
        "def evaluate_model(model, data, batch_size=256, name=None, **kwargs):\n",
        "    squared_error = abs_error = num_samples = 0.0\n",
        "    data_iterator = iterate_minibatches(data, batch_size, shuffle=False, **kwargs)\n",
        "    for batch, target in data_iterator:\n",
        "        batch = torch.tensor(batch[\"FullDescription\"], dtype=torch.long, device=device)\n",
        "        pred = model(batch)[:, 0].cpu().numpy()\n",
        "\n",
        "        squared_error += np.sum(np.square(np.exp(pred) - np.exp(target)))\n",
        "        abs_error += np.sum(np.abs(np.exp(pred) - np.exp(target)))\n",
        "        num_samples += len(target)\n",
        "\n",
        "    if name is not None:\n",
        "        print(f\"{name}:\")\n",
        "\n",
        "    print(f\"MSE: {squared_error / num_samples:.5f}\")\n",
        "    print(f\"MAE: {abs_error / num_samples:.5f}\")\n",
        "\n",
        "\n",
        "evaluate_model(simple_model, data_train, name=\"Train\")\n",
        "evaluate_model(simple_model, data_val, name=\"Val\")"
      ],
      "metadata": {
        "colab": {
          "base_uri": "https://localhost:8080/"
        },
        "id": "fSxxQ-etONkr",
        "outputId": "818c06d8-17c7-46bb-98d7-bf282ee91f08"
      },
      "execution_count": 72,
      "outputs": [
        {
          "output_type": "stream",
          "name": "stdout",
          "text": [
            "Train:\n",
            "MSE: 332934764.53729\n",
            "MAE: 12428.01263\n",
            "Val:\n",
            "MSE: 368796130.06692\n",
            "MAE: 12993.23070\n"
          ]
        }
      ]
    },
    {
      "cell_type": "markdown",
      "source": [
        "Выше данные которые можно интрепретировать"
      ],
      "metadata": {
        "id": "ctmkQaPJPtg2"
      }
    },
    {
      "cell_type": "markdown",
      "metadata": {
        "id": "hUUchHCnpHfe"
      },
      "source": [
        "### Bonus area 1: three-headed network.\n",
        "\n",
        "Now you can try to implement the network we've discussed above. Use [__PyTorch nn.Module API__](https://pytorch.org/docs/stable/nn.html#torch.nn.Module)."
      ]
    },
    {
      "cell_type": "code",
      "execution_count": null,
      "metadata": {
        "id": "SOG-2OK2pHfe"
      },
      "outputs": [],
      "source": [
        "class ThreeInputsNet(nn.Module):\n",
        "    def __init__(\n",
        "        self,\n",
        "        n_tokens=len(tokens),\n",
        "        n_cat_features=len(categorical_vectorizer.vocabulary_),\n",
        "        hid_size=64,\n",
        "    ):\n",
        "        super().__init__()\n",
        "\n",
        "        self.title_emb = nn.Embedding(n_tokens, hid_size)\n",
        "        # YOUR CODE HERE\n",
        "        # Define modules to process the title.\n",
        "\n",
        "        self.desc_emb = nn.Embedding(n_tokens, hid_size)\n",
        "        # YOUR CODE HERE\n",
        "        # Define modules to process the description.\n",
        "\n",
        "        # YOUR CODE HERE\n",
        "        # Define modules to process the categorical features.\n",
        "        # self.category_out = ...\n",
        "\n",
        "        # YOUR CODE HERE\n",
        "        # Define fully-connected part which will take outputs of\n",
        "        # three heads and return the result.\n",
        "        # self.out = ...\n",
        "\n",
        "    def forward(self, whole_input):\n",
        "        input1, input2, input3 = whole_input\n",
        "        title_beg = self.title_emb(input1).permute((0, 2, 1))\n",
        "        # YOUR CODE HERE\n",
        "        # Process the title.\n",
        "        # title = ...\n",
        "\n",
        "        full_beg = self.full_emb(input2).permute((0, 2, 1))\n",
        "        # YOUR CODE HERE\n",
        "        # Process the description.\n",
        "        # desc = ...\n",
        "\n",
        "        # YOUR CODE HERE\n",
        "        # Process the categorical features.\n",
        "        # category = ...\n",
        "\n",
        "        concatenated = torch.cat(\n",
        "            [\n",
        "                title.view(title.size(0), -1),\n",
        "                desc.view(desc.size(0), -1),\n",
        "                category.view(category.size(0), -1),\n",
        "            ],\n",
        "            dim=1,\n",
        "        )\n",
        "\n",
        "        # YOUR CODE HERE\n",
        "        # Process the concatenated features to generate network output.\n",
        "        # out = ...\n",
        "\n",
        "        return out"
      ]
    },
    {
      "cell_type": "markdown",
      "metadata": {
        "id": "kAigoulWpHfe"
      },
      "source": [
        "### Bonus area 2: comparing RNN to CNN\n",
        "Try implementing simple RNN (or LSTM) and applying it to this task. Compare the quality/performance of these networks. \n",
        "*Hint: try to build networks with ~same number of paremeters.*"
      ]
    },
    {
      "cell_type": "code",
      "execution_count": null,
      "metadata": {
        "id": "rQVzJyCMpHfe"
      },
      "outputs": [],
      "source": [
        "# YOUR CODE HERE"
      ]
    },
    {
      "cell_type": "markdown",
      "metadata": {
        "id": "jPn2Q0wXpHfe"
      },
      "source": [
        "### Bonus area 3: fixing the data leaks\n",
        "Fix the data leak we ignored in the beginning of the __Deep Learning part__. Compare results with and without data leaks using same architectures and training time.\n"
      ]
    },
    {
      "cell_type": "code",
      "execution_count": null,
      "metadata": {
        "id": "DVgBWPpjpHfe"
      },
      "outputs": [],
      "source": [
        "# YOUR CODE HERE"
      ]
    },
    {
      "cell_type": "markdown",
      "metadata": {
        "id": "V-iOq02ZpHfe"
      },
      "source": [
        "__Terrible start-up idea #1962:__ make a tool that automaticaly rephrases your job description (or CV) to meet salary expectations :)"
      ]
    }
  ],
  "metadata": {
    "colab": {
      "provenance": [],
      "collapsed_sections": [
        "kAigoulWpHfe",
        "jPn2Q0wXpHfe"
      ]
    },
    "kernelspec": {
      "display_name": "Python 3",
      "name": "python3"
    },
    "language_info": {
      "name": "python"
    },
    "accelerator": "GPU",
    "gpuClass": "standard"
  },
  "nbformat": 4,
  "nbformat_minor": 0
}